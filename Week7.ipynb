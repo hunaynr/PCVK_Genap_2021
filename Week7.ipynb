{
  "nbformat": 4,
  "nbformat_minor": 0,
  "metadata": {
    "colab": {
      "name": "Week7.ipynb",
      "provenance": [],
      "toc_visible": true,
      "authorship_tag": "ABX9TyPzcoZhgif8pFrP5LK7pHQq",
      "include_colab_link": true
    },
    "kernelspec": {
      "name": "python3",
      "display_name": "Python 3"
    },
    "language_info": {
      "name": "python"
    }
  },
  "cells": [
    {
      "cell_type": "markdown",
      "metadata": {
        "id": "view-in-github",
        "colab_type": "text"
      },
      "source": [
        "<a href=\"https://colab.research.google.com/github/hunaynr/PCVK_Genap_2021/blob/main/Week7.ipynb\" target=\"_parent\"><img src=\"https://colab.research.google.com/assets/colab-badge.svg\" alt=\"Open In Colab\"/></a>"
      ]
    },
    {
      "cell_type": "markdown",
      "metadata": {
        "id": "0wqfvfUKvUMX"
      },
      "source": [
        "### **MODUL 7 – Filter Spasial Low Pass Filter, High Pass Filter, Point Detection, Line Detection, Edge Detection**"
      ]
    },
    {
      "cell_type": "markdown",
      "metadata": {
        "id": "6d6IslecvvuU"
      },
      "source": [
        "**PRAKTIKUM FILTER**<br>\n",
        "\n",
        "Akses file yang terdapat pada drive dan import beberapa library yang dibutuhkan"
      ]
    },
    {
      "cell_type": "code",
      "metadata": {
        "id": "IPgnbyvZuO8n",
        "outputId": "5010bb16-812b-49d5-bf5a-52c1b46947c6",
        "colab": {
          "base_uri": "https://localhost:8080/"
        }
      },
      "source": [
        "from google.colab import drive\n",
        "\n",
        "# Acessing My Google Drive\n",
        "drive.mount('/content/drive')"
      ],
      "execution_count": 1,
      "outputs": [
        {
          "output_type": "stream",
          "text": [
            "Mounted at /content/drive\n"
          ],
          "name": "stdout"
        }
      ]
    },
    {
      "cell_type": "code",
      "metadata": {
        "id": "MTfvFy3Uw6eN"
      },
      "source": [
        "import numpy as np\n",
        "import matplotlib.pyplot as plt\n",
        "import cv2 as cv\n",
        "import math\n",
        "from google.colab.patches import cv2_imshow\n",
        "from PIL import Image as im"
      ],
      "execution_count": 3,
      "outputs": []
    }
  ]
}