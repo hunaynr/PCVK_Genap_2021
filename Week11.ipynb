{
  "nbformat": 4,
  "nbformat_minor": 0,
  "metadata": {
    "colab": {
      "name": "Week11.ipynb",
      "provenance": [],
      "authorship_tag": "ABX9TyNPgDL8dLqopLl1Ud9tC3KO",
      "include_colab_link": true
    },
    "kernelspec": {
      "name": "python3",
      "display_name": "Python 3"
    },
    "language_info": {
      "name": "python"
    }
  },
  "cells": [
    {
      "cell_type": "markdown",
      "metadata": {
        "id": "view-in-github",
        "colab_type": "text"
      },
      "source": [
        "<a href=\"https://colab.research.google.com/github/hunaynr/PCVK_Genap_2021/blob/main/Week11.ipynb\" target=\"_parent\"><img src=\"https://colab.research.google.com/assets/colab-badge.svg\" alt=\"Open In Colab\"/></a>"
      ]
    },
    {
      "cell_type": "markdown",
      "metadata": {
        "id": "TXvZ5hRUNGjs"
      },
      "source": [
        "### **MODUL 11 – Metode Deteksi Objek: Template Matching, Edge Detection, Corner Detection, Grid Detection, Contour Detection**"
      ]
    },
    {
      "cell_type": "markdown",
      "metadata": {
        "id": "1BBlVZJOMgX7"
      },
      "source": [
        "**TUGAS PRAKTIKUM**<br>\n",
        "\n",
        "Import beberapa library dan akses folder yang ada di Drive Anda dengan \n",
        "cara sebagai berikut."
      ]
    },
    {
      "cell_type": "code",
      "metadata": {
        "id": "ajcYV8VzMy8k"
      },
      "source": [
        "import cv2 as cv\n",
        "import numpy as np\n",
        "import matplotlib.pyplot as plt"
      ],
      "execution_count": 1,
      "outputs": []
    },
    {
      "cell_type": "code",
      "metadata": {
        "id": "TUoxw0NkNDoD",
        "outputId": "508bc43c-0537-472b-9a8e-66bad67731d1",
        "colab": {
          "base_uri": "https://localhost:8080/"
        }
      },
      "source": [
        "from google.colab import drive\n",
        "\n",
        "# Acessing My Google Drive\n",
        "drive.mount('/content/drive')"
      ],
      "execution_count": 2,
      "outputs": [
        {
          "output_type": "stream",
          "text": [
            "Mounted at /content/drive\n"
          ],
          "name": "stdout"
        }
      ]
    },
    {
      "cell_type": "markdown",
      "metadata": {
        "id": "cZ7hhG96NloI"
      },
      "source": [
        "Implementasikan 6 metode template matching pada OpenCV dengan menggunakan \n",
        "gambar cats_and_bunnies.jpg dan cat2_templatejpg.jpg sebagai templatenya. \n"
      ]
    },
    {
      "cell_type": "code",
      "metadata": {
        "id": "92G-Z17nNbuv"
      },
      "source": [
        ""
      ],
      "execution_count": null,
      "outputs": []
    }
  ]
}