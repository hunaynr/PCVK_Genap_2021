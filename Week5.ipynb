{
  "nbformat": 4,
  "nbformat_minor": 0,
  "metadata": {
    "colab": {
      "name": "Week5.ipynb",
      "provenance": [],
      "toc_visible": true,
      "authorship_tag": "ABX9TyPS2TiqfeDkZhSPNi2Cta0u",
      "include_colab_link": true
    },
    "kernelspec": {
      "name": "python3",
      "display_name": "Python 3"
    }
  },
  "cells": [
    {
      "cell_type": "markdown",
      "metadata": {
        "id": "view-in-github",
        "colab_type": "text"
      },
      "source": [
        "<a href=\"https://colab.research.google.com/github/hunaynr/PCVK_Genap_2021/blob/main/Week5.ipynb\" target=\"_parent\"><img src=\"https://colab.research.google.com/assets/colab-badge.svg\" alt=\"Open In Colab\"/></a>"
      ]
    },
    {
      "cell_type": "markdown",
      "metadata": {
        "id": "wXjdTWlPqddG"
      },
      "source": [
        "### **MODUL 5 – Operasi Aritmatika dan Logika - Gamma Correction, Image Depth, PSNR, Average Denoising, Image Masking **\r\n"
      ]
    },
    {
      "cell_type": "markdown",
      "metadata": {
        "id": "72M8rLEKqllw"
      },
      "source": [
        "**Tugas Praktikum**\r\n",
        "\r\n",
        "Buat Gamma Correction sesuai dengan petunjuk berikut"
      ]
    },
    {
      "cell_type": "code",
      "metadata": {
        "id": "6mY9Fq_OsRZK",
        "colab": {
          "base_uri": "https://localhost:8080/"
        },
        "outputId": "aa7bd387-1837-47f9-c511-eb02eef47d77"
      },
      "source": [
        "from google.colab import drive\r\n",
        "drive.mount('/content/drive')"
      ],
      "execution_count": null,
      "outputs": [
        {
          "output_type": "stream",
          "text": [
            "Mounted at /content/drive\n"
          ],
          "name": "stdout"
        }
      ]
    },
    {
      "cell_type": "code",
      "metadata": {
        "id": "u-oPmtCvsSMb"
      },
      "source": [
        "import cv2 as cv\r\n",
        "import numpy as np\r\n",
        "from google.colab.patches import cv2_imshow\r\n",
        "import matplotlib.pyplot as plt"
      ],
      "execution_count": null,
      "outputs": []
    },
    {
      "cell_type": "code",
      "metadata": {
        "id": "7V0MKaO_r5Hf"
      },
      "source": [
        "print('Gamma Correction pada citra')\r\n",
        "print('----------------------------')\r\n",
        "try:\r\n",
        "  gamma = int(input('Masukkan nilai Gamm: '))\r\n",
        "except ValueError:\r\n",
        "  print('Error, not a number')\r\n",
        "\r\n",
        "original = cv.imread('/content/drive/MyDrive/Image Processing/female.tiff')\r\n",
        "gamma_img = np.zeros(original.shape, original.dtype)\r\n",
        "\r\n",
        "# accessing every image pixel\r\n",
        "for y in range(original.shape[0]):\r\n",
        "  for x in range(original.shape[1]):\r\n",
        "    for c in range(original.shape[2]):\r\n",
        "      gamma_img[y,x,c] = np.clip(255*pow(original[y,x,c]/255,(1/gamma)), 0, 255)\r\n",
        "  \r\n",
        "  img_concat = cv.hconcat((original, gamma_img))\r\n",
        "  cv2_imshow(img_concat)"
      ],
      "execution_count": null,
      "outputs": []
    }
  ]
}