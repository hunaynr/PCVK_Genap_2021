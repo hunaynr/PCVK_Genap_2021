{
  "nbformat": 4,
  "nbformat_minor": 0,
  "metadata": {
    "colab": {
      "name": "Week5.ipynb",
      "provenance": [],
      "authorship_tag": "ABX9TyPXA71jgogpT7KT1NbA1K6R",
      "include_colab_link": true
    },
    "kernelspec": {
      "name": "python3",
      "display_name": "Python 3"
    }
  },
  "cells": [
    {
      "cell_type": "markdown",
      "metadata": {
        "id": "view-in-github",
        "colab_type": "text"
      },
      "source": [
        "<a href=\"https://colab.research.google.com/github/hunaynr/PCVK_Genap_2021/blob/main/Week5.ipynb\" target=\"_parent\"><img src=\"https://colab.research.google.com/assets/colab-badge.svg\" alt=\"Open In Colab\"/></a>"
      ]
    },
    {
      "cell_type": "markdown",
      "metadata": {
        "id": "wXjdTWlPqddG"
      },
      "source": [
        "### **MODUL 5 – Operasi Aritmatika dan Logika - Gamma Correction, Image Depth, PSNR, Average Denoising, Image Masking **\r\n"
      ]
    },
    {
      "cell_type": "markdown",
      "metadata": {
        "id": "72M8rLEKqllw"
      },
      "source": [
        "**Tugas Praktikum**\r\n",
        "\r\n",
        "Buat Gamma Correction sesuai dengan petunjuk berikut"
      ]
    }
  ]
}