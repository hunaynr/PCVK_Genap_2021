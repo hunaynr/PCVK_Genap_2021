{
  "nbformat": 4,
  "nbformat_minor": 0,
  "metadata": {
    "colab": {
      "name": "Week6.ipynb",
      "provenance": [],
      "authorship_tag": "ABX9TyNhg6DusASC7nCg2FCKUyW9",
      "include_colab_link": true
    },
    "kernelspec": {
      "name": "python3",
      "display_name": "Python 3"
    }
  },
  "cells": [
    {
      "cell_type": "markdown",
      "metadata": {
        "id": "view-in-github",
        "colab_type": "text"
      },
      "source": [
        "<a href=\"https://colab.research.google.com/github/hunaynr/PCVK_Genap_2021/blob/main/Week6.ipynb\" target=\"_parent\"><img src=\"https://colab.research.google.com/assets/colab-badge.svg\" alt=\"Open In Colab\"/></a>"
      ]
    },
    {
      "cell_type": "markdown",
      "metadata": {
        "id": "aHJ6K-idvYs7"
      },
      "source": [
        "### **MODUL 6 – Histogram, Histogram Equalization, Dithering**"
      ]
    },
    {
      "cell_type": "markdown",
      "metadata": {
        "id": "9YXHgQEcvgRG"
      },
      "source": [
        "**TUGAS PRAKTIKUM**\r\n",
        "Import folder yang ada di Drive Anda dengan cara sebagai berikut"
      ]
    },
    {
      "cell_type": "code",
      "metadata": {
        "id": "H7sTTv64u-Kj",
        "outputId": "8969df9c-7fbc-4cbe-80ef-7ea1f97a6705",
        "colab": {
          "base_uri": "https://localhost:8080/"
        }
      },
      "source": [
        "from google.colab import drive\r\n",
        "\r\n",
        "# Acessing My Google Drive\r\n",
        "drive.mount('/content/drive')"
      ],
      "execution_count": 1,
      "outputs": [
        {
          "output_type": "stream",
          "text": [
            "Mounted at /content/drive\n"
          ],
          "name": "stdout"
        }
      ]
    },
    {
      "cell_type": "markdown",
      "metadata": {
        "id": "qflvNy9MwVje"
      },
      "source": [
        "Import beberapa library berikut yang akan digunakan selama uji coba praktikum \r\n",
        "minggu ke-6 berikut"
      ]
    }
  ]
}