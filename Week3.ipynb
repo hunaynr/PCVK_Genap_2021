{
  "nbformat": 4,
  "nbformat_minor": 0,
  "metadata": {
    "colab": {
      "name": "Week3.ipynb",
      "provenance": [],
      "mount_file_id": "https://github.com/hunaynr/PCVK_Genap_2021/blob/main/Week3.ipynb",
      "authorship_tag": "ABX9TyOK50uir1XDBLBQZIXznDIT",
      "include_colab_link": true
    },
    "kernelspec": {
      "name": "python3",
      "display_name": "Python 3"
    }
  },
  "cells": [
    {
      "cell_type": "markdown",
      "metadata": {
        "id": "view-in-github",
        "colab_type": "text"
      },
      "source": [
        "<a href=\"https://colab.research.google.com/github/hunaynr/PCVK_Genap_2021/blob/main/Week3.ipynb\" target=\"_parent\"><img src=\"https://colab.research.google.com/assets/colab-badge.svg\" alt=\"Open In Colab\"/></a>"
      ]
    },
    {
      "cell_type": "code",
      "metadata": {
        "id": "8nTxqCIplwzm"
      },
      "source": [
        ""
      ],
      "execution_count": null,
      "outputs": []
    },
    {
      "cell_type": "markdown",
      "metadata": {
        "id": "pqDkM-qzowiU"
      },
      "source": [
        "**Transfromasi Linier Brightness**\r\n",
        "\r\n",
        "Formula: g(x,y) = f(x,y)+b<br>\r\n",
        "g(x,y) adalah nilai pixel setelah transformasi<br>\r\n",
        "f(x,y) adalah nilai pixel asli<br>\r\n",
        "b adalah nilai brightness\r\n"
      ]
    },
    {
      "cell_type": "code",
      "metadata": {
        "id": "ZLBAIw7TqX5B",
        "outputId": "8f6a0bc2-6ae2-425a-c1c1-21e7444d72c0",
        "colab": {
          "base_uri": "https://localhost:8080/"
        }
      },
      "source": [
        "from google.colab import drive\r\n",
        "drive.mount('/content/drive')"
      ],
      "execution_count": 1,
      "outputs": [
        {
          "output_type": "stream",
          "text": [
            "Mounted at /content/drive\n"
          ],
          "name": "stdout"
        }
      ]
    },
    {
      "cell_type": "code",
      "metadata": {
        "id": "-jNZDE_lvjpM"
      },
      "source": [
        "import cv2 as cv\r\n",
        "import numpy as np"
      ],
      "execution_count": 8,
      "outputs": []
    },
    {
      "cell_type": "code",
      "metadata": {
        "id": "z132AJ78pOm_",
        "outputId": "0aed3d0a-9401-4bfa-a64f-61ece18f2328",
        "colab": {
          "base_uri": "https://localhost:8080/",
          "height": 248
        }
      },
      "source": [
        "\r\n",
        "print('Mengubah tingkat kecerahan citra ')\r\n",
        "print('---------------------------------')\r\n",
        "try:\r\n",
        "  brightness = int(input('Masukkan nilai kecerahan: '))\r\n",
        "except ValueError:\r\n",
        "  print('Error, not a number')\r\n",
        "\r\n",
        "original = cv.imread('/content/drive/MyDrive/Image Processing/male2.jpg')\r\n",
        "brightness_image = np.zeros(original.shape, original.dtype)\r\n",
        "\r\n",
        "# akses per pixel\r\n",
        "for y in range(original.shape[0]):\r\n",
        "  for x in range(original.shape[1]):\r\n",
        "    for c in range(original.shape[2]):\r\n",
        "      brightness_image[y,x,c] = np.clip(original[y,x,c] + brightness, 0, 255)\r\n",
        "\r\n",
        "# cara simple tanpa for loop\r\n",
        "# brightness_image = cv.convertScaleAbs(original, beta=brightness)\r\n",
        "\r\n",
        "final_frame = cv.hconcat((original, brightness_image))\r\n",
        "cv2_imshow(final_frame)"
      ],
      "execution_count": 9,
      "outputs": [
        {
          "output_type": "stream",
          "text": [
            "Mengubah tingkat kecerahan citra \n",
            "---------------------------------\n",
            "Masukkan nilai kecerahan: 40\n"
          ],
          "name": "stdout"
        },
        {
          "output_type": "error",
          "ename": "NameError",
          "evalue": "ignored",
          "traceback": [
            "\u001b[0;31m---------------------------------------------------------------------------\u001b[0m",
            "\u001b[0;31mNameError\u001b[0m                                 Traceback (most recent call last)",
            "\u001b[0;32m<ipython-input-9-9cd3bbf1b64a>\u001b[0m in \u001b[0;36m<module>\u001b[0;34m()\u001b[0m\n\u001b[1;32m     20\u001b[0m \u001b[0;34m\u001b[0m\u001b[0m\n\u001b[1;32m     21\u001b[0m \u001b[0mfinal_frame\u001b[0m \u001b[0;34m=\u001b[0m \u001b[0mcv\u001b[0m\u001b[0;34m.\u001b[0m\u001b[0mhconcat\u001b[0m\u001b[0;34m(\u001b[0m\u001b[0;34m(\u001b[0m\u001b[0moriginal\u001b[0m\u001b[0;34m,\u001b[0m \u001b[0mbrightness_image\u001b[0m\u001b[0;34m)\u001b[0m\u001b[0;34m)\u001b[0m\u001b[0;34m\u001b[0m\u001b[0;34m\u001b[0m\u001b[0m\n\u001b[0;32m---> 22\u001b[0;31m \u001b[0mcv2_imshow\u001b[0m\u001b[0;34m(\u001b[0m\u001b[0mfinal_frame\u001b[0m\u001b[0;34m)\u001b[0m\u001b[0;34m\u001b[0m\u001b[0;34m\u001b[0m\u001b[0m\n\u001b[0m",
            "\u001b[0;31mNameError\u001b[0m: name 'cv2_imshow' is not defined"
          ]
        }
      ]
    }
  ]
}